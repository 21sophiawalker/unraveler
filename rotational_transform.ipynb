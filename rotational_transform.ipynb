{
 "cells": [
  {
   "cell_type": "code",
   "execution_count": 2,
   "metadata": {},
   "outputs": [],
   "source": [
    "import os, sys, inspect       # For importing the submodules in a platform-independend robust way\n",
    "# Make sure that the path to BlenDaViz and the integration library are in the front of the path.\n",
    "code_folder = os.path.realpath(os.path.abspath(os.path.join(os.path.split(inspect.getfile( inspect.currentframe() ))[0],\".\")))\n",
    "if code_folder not in sys.path:\n",
    "     sys.path.insert(0, code_folder)\n",
    "\n",
    "import numpy as np\n",
    "import matplotlib.pyplot as plt\n",
    "from functools import partial  # create new funtions from old functions (and strip the kwargs)\n",
    "from scipy.integrate import odeint\n",
    "import cmath \n",
    "import sympy as sym\n",
    "import frenet_serret"
   ]
  },
  {
   "cell_type": "code",
   "execution_count": 3,
   "metadata": {},
   "outputs": [],
   "source": [
    "def random_three_vector():\n",
    "    \"\"\"\n",
    "    Generates a random 3D unit vector (direction) with a uniform spherical distribution\n",
    "    Algo from http://stackoverflow.com/questions/5408276/python-uniform-spherical-distribution\n",
    "    :return:\n",
    "    \"\"\"\n",
    "    phi = np.random.uniform(0,np.pi*2)\n",
    "    costheta = np.random.uniform(-1,1)\n",
    "    theta = np.arccos( costheta )\n",
    "    x = np.sin( theta) * np.cos( phi )\n",
    "    y = np.sin( theta) * np.sin( phi )\n",
    "    z = np.cos( theta )\n",
    "    return np.array((x,y,z))"
   ]
  },
  {
   "cell_type": "code",
   "execution_count": 4,
   "metadata": {},
   "outputs": [],
   "source": [
    "def Kedia_32(xx):\n",
    "    '''\n",
    "    Vector field whose integral curves lie on knotted trefoil surfaces\n",
    "    See Kedia et al. 10.1103/PhysRevLett.111.150404\n",
    "    '''\n",
    "    vv = np.zeros(3)\n",
    "    vv[0] = (192*(2*xx[0]**5*xx[1] + xx[0]**3*xx[1]*(-1 + xx[2]**2) - 2*xx[1]**2*xx[2]*(-1 + xx[1]**2 + xx[2]**2) + 2*xx[0]**2*xx[2]*(-1 + 3*xx[1]**2 + xx[2]**2) - xx[0]*xx[1]*(1 + 2*xx[1]**4 - 6*xx[2]**2 + xx[2]**4 + 3*xx[1]**2*(-1 + xx[2]**2))))/(1 + xx[0]**2 + xx[1]**2 + xx[2]**2)**6\n",
    "\n",
    "    vv[1] = -((96*(xx[0]**6 + 12*xx[0]**3*xx[1]*xx[2] - 4*xx[0]*xx[1]*xx[2]*(2 + xx[1]**2 - 2*xx[2]**2) + xx[0]**4*(-2 - 5*xx[1]**2 + 2*xx[2]**2) + xx[1]**2*(-1 + xx[1]**4 + 6*xx[2]**2 - xx[2]**4) + xx[0]**2*(1 - 5*xx[1]**4 - 6*xx[2]**2 + xx[2]**4 - 6*xx[1]**2*(-1 + xx[2]**2))))/(1 + xx[0]**2 + xx[1]**2 + xx[2]**2)**6)\n",
    "\n",
    "    vv[2] = -((192*(xx[0]**5 - 3*xx[0]**4*xx[1]*xx[2] + xx[0]**2*xx[1]*xx[2]*(9 - 2*xx[1]**2 - 3*xx[2]**2) + xx[1]**3*xx[2]*(-3 + xx[1]**2 + xx[2]**2) + xx[0]**3*(-1 - 2*xx[1]**2 + 3*xx[2]**2) - 3*xx[0]*xx[1]**2*(-1 + xx[1]**2 + 3*xx[2]**2)))/(1 + xx[0]**2 + xx[1]**2 + xx[2]**2)**6)\n",
    "    return vv/np.sum(np.sqrt(vv**2))"
   ]
  },
  {
   "cell_type": "code",
   "execution_count": 5,
   "metadata": {},
   "outputs": [
    {
     "name": "stdout",
     "output_type": "stream",
     "text": [
      "adding time dependence to the function\n",
      "[1.07222  0.71903  0.816497]\n",
      "[ 9.13841762e-01 -8.61542801e-02  3.95748842e-06]\n"
     ]
    }
   ],
   "source": [
    "def fieldline(start=np.array([np.random.random_sample(),0,0]), field=Kedia_32, N=100, tf=100):\n",
    "    numargs = len(inspect.signature(field).parameters)\n",
    "    if numargs == 1:\n",
    "        # replace with function with proper call signature\n",
    "        print('adding time dependence to the function')\n",
    "        placeholder = field\n",
    "        field = lambda xx, t: placeholder(xx)\n",
    "    elif numargs > 2:\n",
    "        print(\"Error: function call signature takes too many arguments\")\n",
    "        raise TypeError\n",
    "    print(start)\n",
    "    print(field(start, 0))\n",
    "    t = np.linspace(0, tf, N)\n",
    "    X = odeint(field, start, t, hmax=0.05, rtol=1e-10)\n",
    "    return X\n",
    "\n",
    "magneticAxis = fieldline(start=np.array([1.07222,0.71903,0.816497]), field=Kedia_32, N=100, tf=100)\n"
   ]
  },
  {
   "cell_type": "code",
   "execution_count": 6,
   "metadata": {},
   "outputs": [],
   "source": [
    "def fieldline2ListOfPoints(thisFieldline):\n",
    "    \"\"\"\n",
    "    return the fieldline, which is a nx3 array\n",
    "    as a list (length n) of points\n",
    "    \"\"\"\n",
    "    return [thisFieldline[n,:] for n in range(thisFieldline.shape[0])]"
   ]
  },
  {
   "cell_type": "code",
   "execution_count": 7,
   "metadata": {},
   "outputs": [],
   "source": [
    "def calculateTangents(points, function):\n",
    "    \"\"\"\n",
    "    return the tangents of a field line\n",
    "    by evaluating the function at points\n",
    "    arguments:\n",
    "    *points*: 3-arrays where the field is to be evaluated\n",
    "    *function*: the function that was integrated to generate the points\n",
    "    \"\"\"\n",
    "    #Evaluate the function at point, and use fancy-schmancy\n",
    "    #python array-casting to make a list of this for every point. \n",
    "    tangents = [function(point) for point in points]\n",
    "    return tangents"
   ]
  },
  {
   "cell_type": "code",
   "execution_count": 8,
   "metadata": {},
   "outputs": [],
   "source": [
    "def dToPlane(dispoint, point, normal):\n",
    "    return np.dot((dispoint-point),normal)"
   ]
  },
  {
   "cell_type": "code",
   "execution_count": 9,
   "metadata": {},
   "outputs": [],
   "source": [
    "def getPositiveCrossings(points, point, normal):\n",
    "    \"\"\"\n",
    "    returns the indexes in the streamline array where the crossings occur\n",
    "    The crossing occurs between this index and next index.\n",
    "    \"\"\"\n",
    "    sides = np.dot( (points-point), normal)<0 #calculate the side of the plane each point falls on by projecting on the normal vector\n",
    "    return np.flatnonzero((sides[:-1]^sides[1:])) #calculate the xor of the boolean array that is 1 if it is above the plane with itself bitshifted. nonzero elements is where a crossing through the plane has taken place. Last and picks only crossings from positive to negative. flatnonzero returns indices of elements that are nonzero.\n",
    "\n",
    "\n",
    "def pointOnPlane(p1, p2, point, normal):\n",
    "    \"\"\"\n",
    "    calculate the point on the plane that is between the two points.\n",
    "    \"\"\"\n",
    "    if np.sign(dToPlane(p1, point, normal))== np.sign(dToPlane(p2, point, normal)):\n",
    "        print ('WARNING: POINTS NOT ON DIFFERENT SIDE OF PLANE')\n",
    "        return\n",
    "    linevec = p1-p2 #vector along the line\n",
    "    distance =(np.dot( (point - p1),normal))/(np.dot(linevec, normal)) #see wikipedia, Line-plane_intersection\n",
    "    \n",
    "    return distance*linevec + p1"
   ]
  },
  {
   "cell_type": "code",
   "execution_count": 10,
   "metadata": {},
   "outputs": [],
   "source": [
    "def getAnglefromSegmentCrossingFrame(segment, frame): #function that takes a line segment and corresponding frame \n",
    "    \"\"\"\n",
    "    A function takes a line segment from a larger field line array and a corresponding frame and calculates the crossing index and angle within the frame\n",
    "    \"\"\"\n",
    "    \n",
    "    crossingIndices = getPositiveCrossings(segment, frame.position, frame.tangent)\n",
    "    \n",
    "    if len(crossingIndices)==0:\n",
    "        print('Warning! No crossing between segment and frame found! Try changing segment length.')\n",
    "        \n",
    "    if len(crossingIndices)>1:\n",
    "        print('Warning! More than one crossing found! Try changing segment length.')\n",
    "    \n",
    "    crossCoord = pointOnPlane(segment[crossingIndices[0]], segment[crossingIndices[0]+1], frame.position, frame.tangent)\n",
    "    \n",
    "    normalProjection = np.dot(crossCoord - frame.position, frame.normal)\n",
    "    binormalProjection = np.dot(crossCoord - frame.position, frame.binormal)\n",
    "        \n",
    "    crossingIndex = crossingIndices[0]\n",
    "    \n",
    "    angle = np.arctan2(normalProjection, binormalProjection)\n",
    "    \n",
    "    return angle, crossingIndex"
   ]
  },
  {
   "cell_type": "code",
   "execution_count": 39,
   "metadata": {},
   "outputs": [
    {
     "name": "stdout",
     "output_type": "stream",
     "text": [
      "[ 9.95585329e-01 -9.38608201e-02  4.31148758e-06] [ 4.29245378e-06 -4.04679761e-07 -1.00000000e+00] [ 9.38608201e-02  9.95585329e-01 -5.29395592e-23]\n",
      "0.1172689443129902\n",
      "adding time dependence to the function\n",
      "[1.07222043 0.71902996 0.716497  ]\n",
      "[ 0.91515755 -0.03097281 -0.05386964]\n"
     ]
    }
   ],
   "source": [
    "tangents = calculateTangents(fieldline2ListOfPoints(magneticAxis), Kedia_32)\n",
    "frames = frenet_serret.computeFrenetSerretFrames(magneticAxis[:31], tangents[:31]) \n",
    "stepSize = 0.1\n",
    "points = fieldline(start=np.array(frames[0].position + frames[0].normal * stepSize), field=Kedia_32, N=1000, tf=100)\n",
    "\n",
    "\n",
    "def rotationalTransform(points, frames):\n",
    "    \"\"\"\n",
    "    calculates the rotational transform of a field line described by points around the core field line specified by frames\n",
    "    \"\"\"\n",
    "    angles = []\n",
    "    currentPosition = 1 #first point after 0th frame\n",
    "    currentFrameNumber = 1\n",
    "    searchForward = 35\n",
    "    searchBack = 15\n",
    "    numFrames = len(frames)\n",
    "    \n",
    "    while currentPosition < len(points) - (searchForward+1):\n",
    "\n",
    "        segment = points[max(currentPosition-searchBack, 0) : currentPosition+searchForward] #creates an array of 16 points on the Field Line which will be used to find the crossings of the Field Line and the Frenet-Serret Frames\n",
    "\n",
    "        currentFrame = frames[currentFrameNumber]\n",
    "        \n",
    "        angle, crossingIndex = getAnglefromSegmentCrossingFrame(segment, currentFrame)\n",
    "        \n",
    "        currentFrameNumber = (currentFrameNumber + 1) % (numFrames)\n",
    "        currentPosition = currentPosition + crossingIndex +1\n",
    "        \n",
    "        angles.append(angle)\n",
    "    angles = np.array(angles)\n",
    "    angleDiff = (angles[1:]-angles[:-1])%(2*np.pi) #the difference between an angle and the angle before\n",
    "    \n",
    "    angleDiff = angleDiff - 2*np.pi\n",
    "    \n",
    "    numCompleteTurns = int((len(angles)/(numFrames))) #int throws away everything after the decimal \n",
    "    \n",
    "    TotalAngle = sum(angleDiff[:numCompleteTurns*numFrames - 2]) #subtract 2 because angleDiff has one less element than angles and python is 0-indexed\n",
    "    \n",
    "    RotationalTransform = (TotalAngle / (numCompleteTurns * (2*np.pi)))\n",
    "    \n",
    "    return RotationalTransform"
   ]
  },
  {
   "cell_type": "code",
   "execution_count": 40,
   "metadata": {},
   "outputs": [
    {
     "name": "stdout",
     "output_type": "stream",
     "text": [
      "[ 9.95585329e-01 -9.38608201e-02  4.31148758e-06] [ 4.29245378e-06 -4.04679761e-07 -1.00000000e+00] [ 9.38608201e-02  9.95585329e-01 -5.29395592e-23]\n",
      "0.1172689443129902\n",
      "adding time dependence to the function\n",
      "[1.07222004 0.71903    0.806497  ]\n",
      "[ 0.91387783 -0.08062859 -0.00549358]\n",
      "adding time dependence to the function\n",
      "[1.07222009 0.71902999 0.796497  ]\n",
      "[ 0.91392148 -0.07510812 -0.01097039]\n",
      "adding time dependence to the function\n",
      "[1.07222013 0.71902999 0.786497  ]\n",
      "[ 0.9139826  -0.06959221 -0.01642518]\n",
      "adding time dependence to the function\n",
      "[1.07222017 0.71902998 0.776497  ]\n",
      "[ 0.914064   -0.06407942 -0.02185658]\n",
      "adding time dependence to the function\n",
      "[1.07222021 0.71902998 0.766497  ]\n",
      "[ 0.91416864 -0.0585682  -0.02726317]\n",
      "adding time dependence to the function\n",
      "[1.07222026 0.71902998 0.756497  ]\n",
      "[ 0.91429967 -0.05305688 -0.03264345]\n",
      "adding time dependence to the function\n",
      "[1.0722203  0.71902997 0.746497  ]\n",
      "[ 0.91446043 -0.04754368 -0.03799589]\n",
      "adding time dependence to the function\n",
      "[1.07222034 0.71902997 0.736497  ]\n",
      "[ 0.91465446 -0.04202667 -0.04331887]\n",
      "adding time dependence to the function\n",
      "[1.07222039 0.71902996 0.726497  ]\n",
      "[ 0.91488551 -0.03650379 -0.0486107 ]\n",
      "adding time dependence to the function\n",
      "[1.07222043 0.71902996 0.716497  ]\n",
      "[ 0.91515755 -0.03097281 -0.05386964]\n",
      "adding time dependence to the function\n",
      "[1.07222047 0.71902996 0.706497  ]\n",
      "[ 0.9154748  -0.02543135 -0.05909385]\n",
      "adding time dependence to the function\n",
      "[1.07222052 0.71902995 0.696497  ]\n",
      "[ 0.91584176 -0.01987684 -0.06428141]\n",
      "adding time dependence to the function\n",
      "[1.07222056 0.71902995 0.686497  ]\n",
      "[ 0.91626317 -0.01430651 -0.06943032]\n",
      "adding time dependence to the function\n",
      "[1.0722206  0.71902994 0.676497  ]\n",
      "[ 0.91674411 -0.0087174  -0.07453849]\n",
      "adding time dependence to the function\n",
      "[1.07222064 0.71902994 0.666497  ]\n",
      "[ 0.91728994 -0.00310632 -0.07960373]\n",
      "adding time dependence to the function\n",
      "[1.07222069 0.71902994 0.656497  ]\n",
      "[ 0.91328489  0.00251742 -0.08419769]\n",
      "adding time dependence to the function\n",
      "[1.07222073 0.71902993 0.646497  ]\n",
      "[ 0.90378519  0.00806357 -0.08815124]\n",
      "adding time dependence to the function\n",
      "[1.07222077 0.71902993 0.636497  ]\n",
      "[ 0.89451836  0.01351874 -0.0919629 ]\n",
      "adding time dependence to the function\n",
      "[1.07222082 0.71902992 0.626497  ]\n",
      "[ 0.88547786  0.01888883 -0.09563331]\n",
      "adding time dependence to the function\n",
      "[1.07222086 0.71902992 0.616497  ]\n",
      "[ 0.87665754  0.02417968 -0.09916278]\n"
     ]
    },
    {
     "data": {
      "text/plain": [
       "[<matplotlib.lines.Line2D at 0x151ed5ff28>]"
      ]
     },
     "execution_count": 40,
     "metadata": {},
     "output_type": "execute_result"
    },
    {
     "data": {
      "image/png": "[encoded data removed]",
      "text/plain": [
       "<Figure size 432x288 with 1 Axes>"
      ]
     },
     "metadata": {
      "needs_background": "light"
     },
     "output_type": "display_data"
    }
   ],
   "source": [
    "##Comparing the rotational transform and stepSize\n",
    "rotationalTransforms = []\n",
    "tangents = calculateTangents(fieldline2ListOfPoints(magneticAxis), Kedia_32)\n",
    "frames = frenet_serret.computeFrenetSerretFrames(magneticAxis[:31], tangents[:31])\n",
    "\n",
    "for stepSize in np.linspace(0.01, 0.2, 20): \n",
    "    points = fieldline(start=np.array(frames[0].position + frames[0].normal * stepSize), field=Kedia_32, N=1000, tf=100)\n",
    "\n",
    "    rotationalTransforms.append(rotationalTransform(points, frames))\n",
    "\n",
    "plt.plot(rotationalTransforms)"
   ]
  },
  {
   "cell_type": "code",
   "execution_count": null,
   "metadata": {},
   "outputs": [],
   "source": []
  },
  {
   "cell_type": "code",
   "execution_count": null,
   "metadata": {},
   "outputs": [],
   "source": []
  }
 ],
 "metadata": {
  "kernelspec": {
   "display_name": "Python 3",
   "language": "python",
   "name": "python3"
  },
  "language_info": {
   "codemirror_mode": {
    "name": "ipython",
    "version": 3
   },
   "file_extension": ".py",
   "mimetype": "text/x-python",
   "name": "python",
   "nbconvert_exporter": "python",
   "pygments_lexer": "ipython3",
   "version": "3.7.3"
  }
 },
 "nbformat": 4,
 "nbformat_minor": 4
}
