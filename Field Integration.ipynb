{
 "cells": [
  {
   "cell_type": "code",
   "execution_count": 2,
   "metadata": {},
   "outputs": [
    {
     "name": "stdout",
     "output_type": "stream",
     "text": [
      "adding time dependence to the function\n",
      "[0.32875071 0.         0.        ]\n",
      "[ 0.         -0.57564795  0.42435205]\n"
     ]
    }
   ],
   "source": [
    "# Useful functions for field line integration\n",
    "# Code developed by Dr. Chris Smiet\n",
    "#\n",
    "\n",
    "import os, sys, inspect       # For importing the submodules in a platform-independend robust way\n",
    "# Make sure that the path to BlenDaViz and the integration library are in the front of the path.\n",
    "code_folder = os.path.realpath(os.path.abspath(os.path.join(os.path.split(inspect.getfile( inspect.currentframe() ))[0],\".\")))\n",
    "if code_folder not in sys.path:\n",
    "     sys.path.insert(0, code_folder)\n",
    "\n",
    "import numpy as np\n",
    "import matplotlib.pyplot as plt\n",
    "from functools import partial  # create new funtions from old functions (and strip the kwargs)\n",
    "from scipy.integrate import odeint\n",
    "import cmath \n",
    "import sympy as sym\n",
    "\n",
    "\n",
    "def random_three_vector():\n",
    "    \"\"\"\n",
    "    Generates a random 3D unit vector (direction) with a uniform spherical distribution\n",
    "    Algo from http://stackoverflow.com/questions/5408276/python-uniform-spherical-distribution\n",
    "    :return:\n",
    "    \"\"\"\n",
    "    phi = np.random.uniform(0,np.pi*2)\n",
    "    costheta = np.random.uniform(-1,1)\n",
    "    theta = np.arccos( costheta )\n",
    "    x = np.sin( theta) * np.cos( phi )\n",
    "    y = np.sin( theta) * np.sin( phi )\n",
    "    z = np.cos( theta )\n",
    "    return np.array((x,y,z))\n",
    "\n",
    "def Kedia_32(xx):\n",
    "    '''\n",
    "    Vector field whose integral curves lie on knotted trefoil surfaces\n",
    "    See Kedia et al. 10.1103/PhysRevLett.111.150404\n",
    "    '''\n",
    "    vv = np.zeros(3)\n",
    "    vv[0] = (192*(2*xx[0]**5*xx[1] + xx[0]**3*xx[1]*(-1 + xx[2]**2) - 2*xx[1]**2*xx[2]*(-1 + xx[1]**2 + xx[2]**2) + 2*xx[0]**2*xx[2]*(-1 + 3*xx[1]**2 + xx[2]**2) - xx[0]*xx[1]*(1 + 2*xx[1]**4 - 6*xx[2]**2 + xx[2]**4 + 3*xx[1]**2*(-1 + xx[2]**2))))/(1 + xx[0]**2 + xx[1]**2 + xx[2]**2)**6\n",
    "\n",
    "    vv[1] = -((96*(xx[0]**6 + 12*xx[0]**3*xx[1]*xx[2] - 4*xx[0]*xx[1]*xx[2]*(2 + xx[1]**2 - 2*xx[2]**2) + xx[0]**4*(-2 - 5*xx[1]**2 + 2*xx[2]**2) + xx[1]**2*(-1 + xx[1]**4 + 6*xx[2]**2 - xx[2]**4) + xx[0]**2*(1 - 5*xx[1]**4 - 6*xx[2]**2 + xx[2]**4 - 6*xx[1]**2*(-1 + xx[2]**2))))/(1 + xx[0]**2 + xx[1]**2 + xx[2]**2)**6)\n",
    "\n",
    "    vv[2] = -((192*(xx[0]**5 - 3*xx[0]**4*xx[1]*xx[2] + xx[0]**2*xx[1]*xx[2]*(9 - 2*xx[1]**2 - 3*xx[2]**2) + xx[1]**3*xx[2]*(-3 + xx[1]**2 + xx[2]**2) + xx[0]**3*(-1 - 2*xx[1]**2 + 3*xx[2]**2) - 3*xx[0]*xx[1]**2*(-1 + xx[1]**2 + 3*xx[2]**2)))/(1 + xx[0]**2 + xx[1]**2 + xx[2]**2)**6)\n",
    "    return vv/np.sum(np.sqrt(vv**2))\n",
    "\n",
    "def Kedia_32_curl(xx):\n",
    "    '''\n",
    "    Vector field whose integral curves lie on knotted trefoil surfaces\n",
    "    See Kedia et al. 10.1103/PhysRevLett.111.150404\n",
    "    '''\n",
    "    vv = np.zeros(3)\n",
    "    vv[0] = (1/((1 + xx[0]**2 + xx[1]**2 + xx[2]**2)**7))*192*(-24*xx[0]*xx[1]*(4 + 5*xx[0]**2 + xx[1]**2) - 24*(xx[0]**4 - 2*xx[1]**2 + xx[0]**2*(2 - 3*xx[1]**2))*xx[2] + 4*(2*xx[0]*xx[1]*(13 + 5*xx[0]**2 - xx[1]**2) + 7*(xx[0] - xx[1])*(xx[0] + xx[1])*xx[2])*(1 + xx[0]**2 + xx[1]**2 + xx[2]**2) - (18*xx[0]*xx[1] + xx[0]**2*xx[2] - xx[1]**2*xx[2])*(1 + xx[0]**2 + xx[1]**2 + xx[2]**2)**2)\n",
    "\n",
    "    vv[1] = (1/((1 + xx[0]**2 + xx[1]**2 + xx[2]**2)**7))*192*(-24*(xx[0]**4 + xx[0]**2*(2 + 3*xx[1]**2) - 2*(xx[1]**2 + xx[1]**4) + xx[0]**3*xx[1]*xx[2] - xx[0]*xx[1]*(4 + 3*xx[1]**2)*xx[2]) + 2*(xx[0]**4 - 26*xx[1]**2 - 7*xx[1]**4 + 2*xx[0]**2*(13 + 9*xx[1]**2) - 28*xx[0]*xx[1]*xx[2])*(1 + xx[0]**2 + xx[1]**2 + xx[2]**2) - (9*xx[0]**2 - 9*xx[1]**2 - 2*xx[0]*xx[1]*xx[2])*(1 + xx[0]**2 + xx[1]**2 + xx[2]**2)**2)\n",
    "\n",
    "    vv[2] = (1/((1 + xx[0]**2 + xx[1]**2 + xx[2]**2)**7))*192*(xx[0]*(xx[0]**2 - 3*xx[1]**2)*(-11 + xx[0]**2 + xx[1]**2)*(-1 + xx[0]**2 + xx[1]**2) - 2*xx[1]*(-3*xx[0]**2 + xx[1]**2)*(-17 + 7*xx[0]**2 + 7*xx[1]**2)*xx[2] + 2*xx[0]*(xx[0]**2 - 3*xx[1]**2)*(-18 + xx[0]**2 + xx[1]**2)*xx[2]**2 - 14*xx[1]*(-3*xx[0]**2 + xx[1]**2)*xx[2]**3 + xx[0]*(xx[0]**2 - 3*xx[1]**2)*xx[2]**4)\n",
    "    return vv/np.sum(np.sqrt(vv**2))\n",
    "def lorentz(X, t):\n",
    "    \"\"\"\n",
    "    Field line integration, Baby!\n",
    "    Arguments:\n",
    "    *X*:\n",
    "        array of the shape [x, y, z, vx, vy, vz]\n",
    "    *t*:\n",
    "        time dependence of this function (needed for call signature of odeint\n",
    "    *Bscale (given to it as args=(Bscale, ) tuple in call of odeint\n",
    "    \"\"\"\n",
    "    xx = X[:3]\n",
    "    B = fn(xx)\n",
    "    v = X[3:]\n",
    "    drdt = v\n",
    "    dvdt = q_over_m * (np.cross(v, B))  # No electric fields :D\n",
    "    return np.hstack((drdt, dvdt))\n",
    "\n",
    "\n",
    "def calc_trajectory(r0=np.array((0., 0., 0.)), v0=None, Energy=10., tf=1e-5, N=100):\n",
    "    \"\"\"Calculate the particle's trajectory.\n",
    "\n",
    "    q, m are the particle charge and mass;\n",
    "    x0 and v0 are its initial position and velocity vectors.\n",
    "    tf final time of integration in seconds.\n",
    "    Energy in KeV.\n",
    "    N  number of points along the way\n",
    "    If v0 is not specified, it is that of a 1 KeV electron.\n",
    "    All parameters are given in SI units\n",
    "\n",
    "    \"\"\"\n",
    "    if v0 is None:\n",
    "        direction = random_three_vector()\n",
    "        v0 = direction * 439284.264 *np.sqrt(Energy/mass)  # speed of electron in m/s\n",
    "    # Final time, number of time steps, time grid.\n",
    "    if N is None:\n",
    "        N = 10 * tf/1e-6  # make ten points per microsecond\n",
    "    t = np.linspace(0, tf, N)\n",
    "    # Initial positon and velocity components.\n",
    "    X0 = np.hstack((r0, v0))\n",
    "    print('starting integration from position: {} with speed: {}'.format(r0, v0))\n",
    "    X = odeint(lorentz, X0, t, hmax= 0.05, rtol=1e-10)\n",
    "    return X\n",
    "\n",
    "\n",
    "def fieldline(start=np.array([np.random.random_sample(),0,0]), field=Kedia_32, N=100, tf=100):\n",
    "    numargs = len(inspect.signature(field).parameters)\n",
    "    if numargs == 1:\n",
    "        # replace with function with proper call signature\n",
    "        print('adding time dependence to the function')\n",
    "        placeholder = field\n",
    "        field = lambda xx, t: placeholder(xx)\n",
    "    elif numargs > 2:\n",
    "        print(\"Error: function call signature takes too many arguments\")\n",
    "        raise TypeError\n",
    "    print(start)\n",
    "    print(field(start, 0))\n",
    "    t = np.linspace(0, tf, N)\n",
    "    X = odeint(field, start, t, hmax=0.05, rtol=1e-10)\n",
    "    return X\n",
    "\n",
    "MyFieldLine = fieldline()"
   ]
  },
  {
   "cell_type": "code",
   "execution_count": 3,
   "metadata": {},
   "outputs": [
    {
     "data": {
      "text/plain": [
       "[<mpl_toolkits.mplot3d.art3d.Line3D at 0x152243cb70>]"
      ]
     },
     "execution_count": 3,
     "metadata": {},
     "output_type": "execute_result"
    },
    {
     "data": {
      "image/png": "[encoded data removed]",
      "text/plain": [
       "<Figure size 432x288 with 1 Axes>"
      ]
     },
     "metadata": {
      "needs_background": "light"
     },
     "output_type": "display_data"
    }
   ],
   "source": [
    "from mpl_toolkits.mplot3d import Axes3D\n",
    "fig = plt.figure()\n",
    "ax = fig.add_subplot(111, projection='3d')\n",
    "ax.plot(MyFieldLine[:,0], MyFieldLine[:,1], zs=MyFieldLine[:,2], marker = 'o')"
   ]
  },
  {
   "cell_type": "code",
   "execution_count": 8,
   "metadata": {},
   "outputs": [
    {
     "name": "stdout",
     "output_type": "stream",
     "text": [
      "adding time dependence to the function\n",
      "[0.99130453 0.         0.        ]\n",
      "[0.         0.15909834 0.84090166]\n"
     ]
    }
   ],
   "source": [
    "def fieldline2(start=np.array([np.random.random_sample(),0,0]), field=Kedia_32_curl, N=100, tf=100):\n",
    "    numargs = len(inspect.signature(field).parameters)\n",
    "    if numargs == 1:\n",
    "        # replace with function with proper call signature\n",
    "        print('adding time dependence to the function')\n",
    "        placeholder = field\n",
    "        field = lambda xx, t: placeholder(xx)\n",
    "    elif numargs > 2:\n",
    "        print(\"Error: function call signature takes too many arguments\")\n",
    "        raise TypeError\n",
    "    print(start)\n",
    "    print(field(start, 0))\n",
    "    t = np.linspace(0, tf, N)\n",
    "    X = odeint(field, start, t, hmax=0.05, rtol=1e-10)\n",
    "    return X\n",
    "\n",
    "MyFieldLine2 = fieldline2()"
   ]
  },
  {
   "cell_type": "code",
   "execution_count": null,
   "metadata": {},
   "outputs": [],
   "source": []
  },
  {
   "cell_type": "code",
   "execution_count": 10,
   "metadata": {},
   "outputs": [
    {
     "data": {
      "text/plain": [
       "(100, 3)"
      ]
     },
     "execution_count": 10,
     "metadata": {},
     "output_type": "execute_result"
    }
   ],
   "source": [
    "MyFieldLine.shape"
   ]
  },
  {
   "cell_type": "code",
   "execution_count": 11,
   "metadata": {},
   "outputs": [
    {
     "data": {
      "text/plain": [
       "(100, 3)"
      ]
     },
     "execution_count": 11,
     "metadata": {},
     "output_type": "execute_result"
    }
   ],
   "source": [
    "MyFieldLine2.shape"
   ]
  },
  {
   "cell_type": "code",
   "execution_count": 14,
   "metadata": {},
   "outputs": [],
   "source": [
    "dotProduct=(MyFieldLine[:,0]*MyFieldLine2[:,0])+(MyFieldLine[:,1]*MyFieldLine2[:,1])+(MyFieldLine[:,2]*MyFieldLine2[:,2])"
   ]
  },
  {
   "cell_type": "code",
   "execution_count": 17,
   "metadata": {},
   "outputs": [],
   "source": [
    "bottom= np.sqrt(MyFieldLine[:,0]**2 + MyFieldLine[:,1]**2 + MyFieldLine[:,2]**2) * np.sqrt(MyFieldLine2[:,0]**2+MyFieldLine2[:,1]**2+MyFieldLine2[:,2]**2)"
   ]
  },
  {
   "cell_type": "code",
   "execution_count": 19,
   "metadata": {},
   "outputs": [],
   "source": [
    "y=np.arccos(dotProduct/bottom)"
   ]
  },
  {
   "cell_type": "code",
   "execution_count": 24,
   "metadata": {},
   "outputs": [
    {
     "data": {
      "text/plain": [
       "<matplotlib.collections.PathCollection at 0x152293f4e0>"
      ]
     },
     "execution_count": 24,
     "metadata": {},
     "output_type": "execute_result"
    },
    {
     "data": {
      "image/png": "[encoded data removed]",
      "text/plain": [
       "<Figure size 432x288 with 1 Axes>"
      ]
     },
     "metadata": {
      "needs_background": "light"
     },
     "output_type": "display_data"
    }
   ],
   "source": [
    "plt.scatter(np.arange(0,100,1), y)"
   ]
  },
  {
   "cell_type": "code",
   "execution_count": 25,
   "metadata": {},
   "outputs": [
    {
     "name": "stdout",
     "output_type": "stream",
     "text": [
      "[0.         0.83262933 2.06729397 2.90377469 2.35294307 1.96577655\n",
      " 1.75636546 2.6468946  2.42275178 2.23401509 1.60767734 0.45015558\n",
      " 1.25272723 2.58670296 2.77395013 2.28772388 1.86060508 1.30850154\n",
      " 0.85323311 0.53911056 0.66406875 1.3835131  2.23865266 3.05091269\n",
      " 2.06526649 1.15773645 0.72958292 0.61692239 0.83017615 1.16656154\n",
      " 1.52684718 1.95120964 2.62757179 2.59970508 1.62859633 1.08232229\n",
      " 1.47068206 1.80942738 2.21436684 2.65549775 3.0223472  2.56393346\n",
      " 2.13063533 1.73236335 1.39294202 0.96755624 2.51204894 2.66958044\n",
      " 2.18856047 1.74511113 1.40042381 1.03336929 0.70675976 0.50899405\n",
      " 0.62569373 1.19624683 2.40911926 2.76613258 2.20266372 1.26367723\n",
      " 0.49085821 0.56179683 0.97393219 1.47616661 1.98525456 2.44611621\n",
      " 2.90531082 2.29161594 1.19500182 0.42105131 1.50250669 1.9623613\n",
      " 2.34373684 2.09360424 1.64386356 1.92407527 2.65536824 2.48460324\n",
      " 1.56625213 0.62148575 0.4851995  0.96761473 2.16357108 2.95204474\n",
      " 2.27827326 1.95407747 1.73607678 2.7281436  2.66480212 2.39374534\n",
      " 1.71943791 0.49572275 1.38064614 2.98374157 2.63210009 2.20068154\n",
      " 1.68542285 1.20296163 0.78458163 0.55219221]\n"
     ]
    }
   ],
   "source": [
    "print(y)"
   ]
  },
  {
   "cell_type": "code",
   "execution_count": null,
   "metadata": {},
   "outputs": [],
   "source": []
  }
 ],
 "metadata": {
  "kernelspec": {
   "display_name": "Python 3",
   "language": "python",
   "name": "python3"
  },
  "language_info": {
   "codemirror_mode": {
    "name": "ipython",
    "version": 3
   },
   "file_extension": ".py",
   "mimetype": "text/x-python",
   "name": "python",
   "nbconvert_exporter": "python",
   "pygments_lexer": "ipython3",
   "version": "3.7.3"
  }
 },
 "nbformat": 4,
 "nbformat_minor": 2
}
